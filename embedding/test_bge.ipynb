{
 "cells": [
  {
   "cell_type": "code",
   "execution_count": 1,
   "id": "initial_id",
   "metadata": {
    "collapsed": true,
    "ExecuteTime": {
     "end_time": "2024-11-19T08:39:01.394103400Z",
     "start_time": "2024-11-19T08:38:55.709984400Z"
    }
   },
   "outputs": [],
   "source": [
    "from sentence_transformers import SentenceTransformer # 加载和使用Embedding模型\n",
    "\n",
    "import textwrap\n",
    "import numpy as np\n",
    "import pandas as pd\n",
    "import os\n"
   ]
  },
  {
   "cell_type": "code",
   "execution_count": 2,
   "outputs": [],
   "source": [
    "DOCUMENT1 = {\n",
    "    \"title\": \"操作气候控制系统\",\n",
    "    \"content\": \"您的Googlecar配备了一个气候控制系统，允许您调节车内的温度和气流。要操作气候控制系统，请使用位于中央控制台上的按钮和旋钮。\\n温度：温度旋钮控制车内的温度。顺时针转动旋钮以增加温度，逆时针转动旋钮以降低温度。\\n气流：气流旋钮控制车内的气流量。顺时针转动旋钮以增加气流，逆时针转动旋钮以减少气流。\\n风扇速度：风扇速度旋钮控制风扇的速度。顺时针转动旋钮以增加风扇速度，逆时针转动旋钮以降低风扇速度。\\n模式：模式按钮允许您选择所需的模式。可用的模式有：\\n自动：汽车将自动调节温度和气流以保持舒适的水平。\\n冷却：汽车将吹入冷空气。\\n加热：汽车将吹入暖空气。\\n除霜：汽车将吹入暖空气到挡风玻璃上以除霜。\"\n",
    "}\n",
    "\n",
    "DOCUMENT2 = {\n",
    "    \"title\": \"触摸屏\",\n",
    "    \"content\": \"您的Googlecar配备了一个大尺寸触摸屏显示器，提供了访问各种功能，包括导航、娱乐和气候控制。要使用触摸屏显示器，只需触摸所需图标。\\n例如，您可以触摸“导航”图标以获取前往目的地的路线，或触摸“音乐”图标以播放您喜欢的歌曲。\"\n",
    "}\n",
    "\n",
    "DOCUMENT3 = {\n",
    "    \"title\": \"换挡\",\n",
    "    \"content\": \"您的Googlecar配备了自动变速器。要换挡，只需将换挡杆移动到所需位置。\\n驻车：此位置用于停车时使用。车轮被锁定，汽车无法移动。\\n倒车：此位置用于倒车。\\n空挡：此位置用于在红灯或交通拥堵时停车。汽车不在档位中，除非您踩下油门踏板，否则不会移动。\\n驾驶：此位置用于前进。\\n低速：此位置用于在雪地或其他湿滑条件下驾驶。\"\n",
    "}\n",
    "documents = [DOCUMENT1, DOCUMENT2, DOCUMENT3]"
   ],
   "metadata": {
    "collapsed": false,
    "ExecuteTime": {
     "end_time": "2024-11-19T08:39:02.645462800Z",
     "start_time": "2024-11-19T08:39:02.620630300Z"
    }
   },
   "id": "80f900e8b2294015"
  },
  {
   "cell_type": "code",
   "execution_count": 3,
   "outputs": [],
   "source": [
    "df = pd.DataFrame(documents)\n",
    "df.columns = ['Title', 'Text']\n",
    "\n",
    "\n",
    "model = SentenceTransformer('../rag_app/bge-small-zh-v1.5')"
   ],
   "metadata": {
    "collapsed": false,
    "ExecuteTime": {
     "end_time": "2024-11-19T08:39:03.836204800Z",
     "start_time": "2024-11-19T08:39:03.506494700Z"
    }
   },
   "id": "79ba8d2bb65c80e"
  },
  {
   "cell_type": "code",
   "execution_count": 5,
   "outputs": [
    {
     "data": {
      "text/plain": "      Title                                               Text  \\\n0  操作气候控制系统  您的Googlecar配备了一个气候控制系统，允许您调节车内的温度和气流。要操作气候控制系统...   \n1       触摸屏  您的Googlecar配备了一个大尺寸触摸屏显示器，提供了访问各种功能，包括导航、娱乐和气候...   \n2        换挡  您的Googlecar配备了自动变速器。要换挡，只需将换挡杆移动到所需位置。\\n驻车：此位置...   \n\n                                          Embeddings  \n0  [0.04296706, 0.071036376, -0.02249626, 0.03746...  \n1  [0.03395347, -0.013656664, 0.056943383, 0.0310...  \n2  [0.06645521, -0.00318073, 0.07671209, 0.005903...  ",
      "text/html": "<div>\n<style scoped>\n    .dataframe tbody tr th:only-of-type {\n        vertical-align: middle;\n    }\n\n    .dataframe tbody tr th {\n        vertical-align: top;\n    }\n\n    .dataframe thead th {\n        text-align: right;\n    }\n</style>\n<table border=\"1\" class=\"dataframe\">\n  <thead>\n    <tr style=\"text-align: right;\">\n      <th></th>\n      <th>Title</th>\n      <th>Text</th>\n      <th>Embeddings</th>\n    </tr>\n  </thead>\n  <tbody>\n    <tr>\n      <th>0</th>\n      <td>操作气候控制系统</td>\n      <td>您的Googlecar配备了一个气候控制系统，允许您调节车内的温度和气流。要操作气候控制系统...</td>\n      <td>[0.04296706, 0.071036376, -0.02249626, 0.03746...</td>\n    </tr>\n    <tr>\n      <th>1</th>\n      <td>触摸屏</td>\n      <td>您的Googlecar配备了一个大尺寸触摸屏显示器，提供了访问各种功能，包括导航、娱乐和气候...</td>\n      <td>[0.03395347, -0.013656664, 0.056943383, 0.0310...</td>\n    </tr>\n    <tr>\n      <th>2</th>\n      <td>换挡</td>\n      <td>您的Googlecar配备了自动变速器。要换挡，只需将换挡杆移动到所需位置。\\n驻车：此位置...</td>\n      <td>[0.06645521, -0.00318073, 0.07671209, 0.005903...</td>\n    </tr>\n  </tbody>\n</table>\n</div>"
     },
     "execution_count": 5,
     "metadata": {},
     "output_type": "execute_result"
    }
   ],
   "source": [
    "def embed_fn(title, text):\n",
    "  return model.encode(text, normalize_embeddings=True)\n",
    "\n",
    "df['Embeddings'] = df.apply(lambda row: embed_fn(row['Title'], row['Text']), axis=1)\n",
    "df"
   ],
   "metadata": {
    "collapsed": false,
    "ExecuteTime": {
     "end_time": "2024-11-19T08:40:41.136641Z",
     "start_time": "2024-11-19T08:40:40.448081300Z"
    }
   },
   "id": "75da74001494f31f"
  },
  {
   "cell_type": "code",
   "execution_count": 6,
   "outputs": [],
   "source": [
    "## 使用 find_best_passage 函数计算点积，然后按照从大到小的点积值对 DataFrame 进行排序，以便从数据库中检索相关段落。\n",
    "def find_best_passage(query, dataframe):\n",
    "  \"\"\"\n",
    "  Compute the distances between the query and each document in the dataframe\n",
    "  using the dot product.\n",
    "  \"\"\"\n",
    "  query_embedding = model.encode(query, normalize_embeddings=True)\n",
    "  dot_products = np.dot(np.stack(dataframe['Embeddings']), query_embedding)\n",
    "  idx = np.argmax(dot_products)\n",
    "  return dataframe.iloc[idx]['Text'] # Return text from index with max value"
   ],
   "metadata": {
    "collapsed": false,
    "ExecuteTime": {
     "end_time": "2024-11-19T08:42:37.041103Z",
     "start_time": "2024-11-19T08:42:37.029103100Z"
    }
   },
   "id": "67ccf2684406700f"
  },
  {
   "cell_type": "code",
   "execution_count": 7,
   "outputs": [
    {
     "data": {
      "text/plain": "'您的Googlecar配备了自动变速器。要换挡，只需将换挡杆移动到所需位置。\\n驻车：此位置用于停车时使用。车轮被锁定，汽车无法移动。\\n倒车：此位置用于倒车。\\n空挡：此位置用于在红灯或交通拥堵时停车。汽车不在档位中，除非您踩下油门踏板，否则不会移动。\\n驾驶：此位置用于前进。\\n低速：此位置用于在雪地或其他湿滑条件下驾驶。'"
     },
     "execution_count": 7,
     "metadata": {},
     "output_type": "execute_result"
    }
   ],
   "source": [
    "query = \"如何在谷歌汽车中换挡？\"\n",
    "## 查看数据库中最相关的文档：\n",
    "passage = find_best_passage(query, df)\n",
    "passage"
   ],
   "metadata": {
    "collapsed": false,
    "ExecuteTime": {
     "end_time": "2024-11-19T08:42:59.628468900Z",
     "start_time": "2024-11-19T08:42:59.604469200Z"
    }
   },
   "id": "e241203a5d647902"
  },
  {
   "cell_type": "code",
   "execution_count": 8,
   "outputs": [],
   "source": [
    "def make_prompt(query, relevant_passage):\n",
    "  escaped = relevant_passage.replace(\"'\", \"\").replace('\"', \"\").replace(\"\\n\", \" \")\n",
    "  prompt = textwrap.dedent(\"\"\"是一个有用且信息丰富的机器人，使用下面包含的参考文本来回答问题。\n",
    "请务必用完整的句子回答，内容要全面，包括所有相关的背景信息。\n",
    "不过，你在与非技术观众交流，所以要确保简化复杂的概念，\n",
    "并保持友好和对话的语气。\n",
    "如果文本与答案无关，你可以忽略它。\n",
    "  QUESTION: '{query}'\n",
    "  PASSAGE: '{relevant_passage}'\n",
    "\n",
    "    ANSWER:\n",
    "  \"\"\").format(query=query, relevant_passage=escaped)\n",
    "\n",
    "  return prompt"
   ],
   "metadata": {
    "collapsed": false,
    "ExecuteTime": {
     "end_time": "2024-11-19T08:46:21.552675100Z",
     "start_time": "2024-11-19T08:46:21.535676400Z"
    }
   },
   "id": "887c66558c544b39"
  },
  {
   "cell_type": "code",
   "execution_count": 9,
   "outputs": [
    {
     "name": "stdout",
     "output_type": "stream",
     "text": [
      "是一个有用且信息丰富的机器人，使用下面包含的参考文本来回答问题。\n",
      "请务必用完整的句子回答，内容要全面，包括所有相关的背景信息。\n",
      "不过，你在与非技术观众交流，所以要确保简化复杂的概念，\n",
      "并保持友好和对话的语气。\n",
      "如果文本与答案无关，你可以忽略它。\n",
      "  QUESTION: '如何在谷歌汽车中换挡？'\n",
      "  PASSAGE: '您的Googlecar配备了自动变速器。要换挡，只需将换挡杆移动到所需位置。 驻车：此位置用于停车时使用。车轮被锁定，汽车无法移动。 倒车：此位置用于倒车。 空挡：此位置用于在红灯或交通拥堵时停车。汽车不在档位中，除非您踩下油门踏板，否则不会移动。 驾驶：此位置用于前进。 低速：此位置用于在雪地或其他湿滑条件下驾驶。'\n",
      "\n",
      "    ANSWER:\n"
     ]
    }
   ],
   "source": [
    "prompt = make_prompt(query, passage)\n",
    "print(prompt)"
   ],
   "metadata": {
    "collapsed": false,
    "ExecuteTime": {
     "end_time": "2024-11-19T08:46:22.449877600Z",
     "start_time": "2024-11-19T08:46:22.408880300Z"
    }
   },
   "id": "e9525d6107a5a168"
  },
  {
   "cell_type": "code",
   "execution_count": 12,
   "outputs": [
    {
     "data": {
      "text/plain": "<IPython.core.display.Markdown object>",
      "text/markdown": "由于你的谷歌汽车使用的是自动变速器，你只需将换挡杆移动到所需的位置即可。有几个不同的位置，每个位置都有其用途：\n\n* **驻车（P）：**当你停车时使用这个位置。它会锁住车轮，防止汽车移动。\n\n* **倒车（R）：**当你需要倒车时使用这个位置。\n\n* **空挡（N）：** 当你在红灯或交通拥堵时暂时停车时使用这个位置。汽车不在档位中，除非你踩油门，否则不会移动。\n\n* **驾驶（D）：** 当你想向前行驶时使用这个位置。\n\n* **低速（L）：** 当你在雪地或其他湿滑路面行驶时使用这个位置，它能提供更大的牵引力。\n"
     },
     "execution_count": 12,
     "metadata": {},
     "output_type": "execute_result"
    }
   ],
   "source": [
    "import google.generativeai as genai\n",
    "from IPython.display import Markdown\n",
    "from dotenv import load_dotenv\n",
    "load_dotenv()\n",
    "\n",
    "genai.configure(api_key=os.getenv(\"GOOGLE_API_KEY\"))\n",
    "\n",
    "model = genai.GenerativeModel('gemini-1.5-pro-latest')\n",
    "answer = model.generate_content(prompt)\n",
    "\n",
    "Markdown(answer.text)"
   ],
   "metadata": {
    "collapsed": false,
    "ExecuteTime": {
     "end_time": "2024-11-19T08:49:22.564176600Z",
     "start_time": "2024-11-19T08:49:15.521196200Z"
    }
   },
   "id": "bce69af0a8028fb3"
  },
  {
   "cell_type": "code",
   "execution_count": null,
   "outputs": [],
   "source": [],
   "metadata": {
    "collapsed": false
   },
   "id": "ec2056c153159b99"
  }
 ],
 "metadata": {
  "kernelspec": {
   "display_name": "Python 3",
   "language": "python",
   "name": "python3"
  },
  "language_info": {
   "codemirror_mode": {
    "name": "ipython",
    "version": 2
   },
   "file_extension": ".py",
   "mimetype": "text/x-python",
   "name": "python",
   "nbconvert_exporter": "python",
   "pygments_lexer": "ipython2",
   "version": "2.7.6"
  }
 },
 "nbformat": 4,
 "nbformat_minor": 5
}
