{
 "cells": [
  {
   "cell_type": "markdown",
   "source": [
    "# 使用嵌入进行文档搜索 \n",
    "## 概览\n",
    "此示例演示了如何使用 Gemini API 创建嵌入，以便执行文档搜索。您将使用 Python 客户端库构建字词嵌入，以便将搜索字符串或问题与文档内容进行比较。\n",
    "在本教程中，您将使用嵌入对一组文档执行文档搜索，以提出与 Google 汽车相关的问题。"
   ],
   "metadata": {
    "collapsed": false
   },
   "id": "41ade42a28d097e4"
  },
  {
   "cell_type": "markdown",
   "source": [
    "## 设置\n",
    "首先，下载并安装 Gemini API Python 库。"
   ],
   "metadata": {
    "collapsed": false
   },
   "id": "be505466bd1c136a"
  },
  {
   "cell_type": "code",
   "execution_count": null,
   "outputs": [],
   "source": [
    "!pip install -U -q google.generativeai"
   ],
   "metadata": {
    "collapsed": false
   },
   "id": "ca6f0228bc0547ce"
  },
  {
   "cell_type": "code",
   "execution_count": 3,
   "outputs": [],
   "source": [
    "import textwrap\n",
    "import numpy as np\n",
    "import pandas as pd\n",
    "import os\n",
    "\n",
    "import google.generativeai as genai\n",
    "\n",
    "from dotenv import load_dotenv\n",
    "load_dotenv()\n",
    "\n",
    "from IPython.display import Markdown"
   ],
   "metadata": {
    "collapsed": false,
    "ExecuteTime": {
     "end_time": "2024-11-19T07:36:52.606736100Z",
     "start_time": "2024-11-19T07:36:52.591739400Z"
    }
   },
   "id": "d7f503409de7710b"
  },
  {
   "cell_type": "markdown",
   "source": [
    "### 获取 API 密钥"
   ],
   "metadata": {
    "collapsed": false
   },
   "id": "3668d0c26c9bbf92"
  },
  {
   "cell_type": "code",
   "execution_count": 4,
   "outputs": [],
   "source": [
    "genai.configure(api_key=os.getenv(\"GOOGLE_API_KEY\"))"
   ],
   "metadata": {
    "collapsed": false,
    "ExecuteTime": {
     "end_time": "2024-11-19T07:36:55.834270200Z",
     "start_time": "2024-11-19T07:36:55.808277Z"
    }
   },
   "id": "1e48bfd39cd44d4e"
  },
  {
   "cell_type": "code",
   "execution_count": 5,
   "outputs": [
    {
     "name": "stdout",
     "output_type": "stream",
     "text": [
      "models/embedding-001\n",
      "models/text-embedding-004\n"
     ]
    }
   ],
   "source": [
    "for m in genai.list_models():\n",
    "  if 'embedContent' in m.supported_generation_methods:\n",
    "    print(m.name)"
   ],
   "metadata": {
    "collapsed": false,
    "ExecuteTime": {
     "end_time": "2024-11-19T07:36:58.833530500Z",
     "start_time": "2024-11-19T07:36:57.306314300Z"
    }
   },
   "id": "845e27725cceda58"
  },
  {
   "cell_type": "markdown",
   "source": [
    "## 嵌入生成\n",
    "在本部分中，您将了解如何使用 Gemini API 中的嵌入为一段文本生成嵌入。"
   ],
   "metadata": {
    "collapsed": false
   },
   "id": "ad6c8c69912c914b"
  },
  {
   "cell_type": "code",
   "execution_count": 6,
   "outputs": [
    {
     "name": "stdout",
     "output_type": "stream",
     "text": [
      "{'embedding': [-0.0021609084, -0.0031644478, -0.060120754, -0.0071218493, 0.0008775481, 0.040581927, 0.04457149, 0.03552469, -0.04746538, 0.008888608, -0.02795826, 0.011335696, -0.0024438712, 0.0030851837, -0.018796137, -0.055550937, 0.03142646, 0.0006549187, -0.11370059, 0.063708074, -0.021750016, -0.021367034, -0.09982074, -0.008604756, -0.03330058, -0.012815642, 0.07153146, 0.037064772, 0.022970116, 0.043331202, 0.010670608, 0.040685344, 0.036361404, -0.036222056, -0.01779936, -0.014820963, 0.0053205034, -0.017382707, 0.07044941, 0.002021254, -0.018208738, 0.01755808, 0.006493214, 0.12724239, -0.023805201, 0.010057808, -0.0006948924, 0.070856266, -0.05645728, 0.018311134, 0.090462275, 0.021575555, -0.06656089, 0.026865067, -0.0034812444, -0.0011228676, -0.06535635, -0.0018169138, 0.08672994, 0.028747609, -0.024817271, 0.004653876, -0.058998518, 0.032061696, -0.022604035, -0.015454275, -0.013758674, 0.021129983, -0.047893394, 0.02573244, 0.01302824, -0.018002003, -0.039879415, 0.023450835, -0.0042081284, -0.02745692, -0.03278662, -0.031516977, 0.016166031, 0.032364633, -0.018289568, 0.03746621, 0.056439918, 0.018822785, -0.031625837, -0.07292376, 0.030363297, -0.059991963, -0.09307723, 0.04188785, 0.064927675, -0.024198279, 0.039436355, 0.012329489, 0.031842574, -0.015837366, -0.08348357, -0.078226775, 0.050835837, 0.07948488, 0.026878443, -0.0038086318, 0.011806114, -0.08685924, 0.028630132, 0.06522583, -0.015315893, -0.005556404, -0.021313192, 0.0024531966, -0.0034198386, -0.042501282, 0.012679334, 0.0144225415, 0.0045323945, -0.013869, -0.06397065, -0.023084046, -0.03471327, 0.01898892, 0.00047666606, -0.02198418, -0.027781388, 0.053257015, 0.06580533, -0.009980822, 0.05390783, -0.027433798, -0.056807578, -0.0259173, 0.08114592, -0.058223184, -0.028904257, 0.0018085625, -0.016155723, -0.0061115576, 0.076104954, -0.0005716506, -0.010480926, 0.015245495, 0.029938715, -0.03927394, -0.048696317, 0.04094666, -0.030271038, -0.010457252, 0.018713301, 0.0036463244, 0.018723752, 0.014655199, -0.011621072, -0.0026406597, -0.003022042, 0.015200444, -0.039530482, -0.025206642, 0.00041178905, -0.0068915305, 0.041529357, 0.00037590065, 0.021241346, -0.0724205, -0.007229297, 0.011068711, -0.008963017, -0.032569733, 0.041915577, -0.0040378757, 0.03401179, -0.02400278, -0.019590672, 0.044339176, 0.009472285, 0.0080211265, 0.011456312, 0.022549931, -0.011292299, -0.045068257, -0.05461661, -0.063114956, 0.1098535, 0.040681563, -0.03672502, -0.0516959, 0.018958297, 0.04853826, -0.012619441, 0.027218128, 0.023783151, 0.039537087, 0.014628241, -0.036800195, 0.03796889, 0.013039644, 0.017110523, -0.034588154, 0.057411335, -0.087068096, 0.07273129, -0.024207499, -0.0052339234, 0.067509174, 0.000496881, -0.020112492, -0.035700675, 0.022825448, -0.011088677, -0.08994041, 0.053007856, 0.026679968, -0.06355843, 0.014337068, -0.032153014, -0.08108302, -0.011651656, -0.02698248, 0.051126003, 0.004203103, 0.014722819, -0.0691202, 0.03301792, -0.02038064, -0.017556252, -0.008474076, 0.065096796, 0.044928066, -0.005135451, -0.06274738, 0.0017220096, 0.0055058845, 0.0015622801, -0.019114627, -0.03496066, 0.029834457, -0.041118108, 0.07154544, 0.0034748937, -0.044664662, 0.0141222915, 0.012372352, -0.020914644, 0.077867135, 0.027588828, -0.021992272, 0.002036593, 0.010755595, -0.005880732, 0.035968717, 0.009015989, -0.08974196, 0.006003133, 0.030479098, -0.0009170456, 0.022828463, -0.015452904, -0.033490375, 0.027941465, -0.006255121, -0.065369844, -0.008247088, 0.024370093, -0.0056163445, -0.045140833, -0.03782263, 0.0052139023, -0.055022687, -0.030458707, 0.027596712, 0.02278894, 0.008157762, 0.017187994, -0.0558444, -0.019837534, -0.06927516, 0.007553926, 0.04790273, -0.044647854, 0.0069713406, -0.033517558, -0.025211828, 0.02816863, -0.0052331085, -0.024554692, -0.024444219, 0.013570725, -0.029820172, -0.0141358515, 0.033803686, 0.0026204905, -0.020539649, 0.03921252, -0.011670822, -0.0361659, -0.017730499, 0.021883996, 0.007358631, 0.03926711, 0.061975107, 0.00062728697, 0.010340806, 0.02811591, 0.014363925, -0.016072914, 0.044381864, -0.02298008, 0.035098054, -0.01599796, -0.04548835, -0.04500465, 0.0021474015, -0.053043764, -0.007153604, -0.045635164, -0.045014076, -0.023607694, -0.014734061, -0.09750219, -0.019866766, -0.026841234, -0.015316156, 0.015268071, -0.00048556295, -0.041345224, -0.07475691, 0.015535085, 0.012467773, 0.00026141896, 0.016619472, 0.033363223, 0.02541178, -0.0019558796, 0.021416297, -0.034703325, -0.019757446, -0.021565787, 0.039885093, -0.0137340715, 0.011723965, 0.07679494, 0.06626574, -0.0033808867, -0.044787057, 0.057418916, 0.010237069, -0.025212558, 0.056616046, 0.04576788, 0.026372826, 0.00877867, 0.0048026596, -0.00978611, 0.018159352, 0.06245772, -0.015068748, 0.013217122, -0.030292267, 0.0010112284, -0.008269975, -0.009218753, -0.045675594, 0.009605766, 0.0014220118, -0.031690754, 0.008257001, -0.015835242, -0.015977362, 0.012684179, 0.03587063, -0.017795663, -0.058163214, -0.02596986, -0.022583997, 0.03475707, 0.08295893, 0.019076662, -0.033236098, 0.0008603616, 0.046286747, 0.03058935, -0.033383973, 0.06772313, -0.039971128, 0.03412419, 0.018904993, -0.022924922, 0.028375557, -0.02108733, -0.035895206, 0.08680358, -0.0068046167, -0.04579074, 0.06242105, 0.027131189, -0.012084892, 0.06725186, 0.020581184, -0.05020455, 0.013283435, 0.043940358, 0.04562581, -0.025263088, 0.04310155, 0.028965592, -0.02955475, -0.016784694, -0.04150606, 0.07761759, 0.0035380844, -0.012565963, -0.011527189, -0.037313726, -0.02495184, 0.005803747, -0.0041362937, -0.009895255, -0.010838153, 0.041181263, -0.058472384, -0.024207024, -0.00274658, -0.036463957, 0.012527362, 0.0980819, -0.011658655, -0.009657978, -0.04808747, -0.06333792, -0.022380797, 0.021717602, 0.045483228, -0.0014466807, -0.00094159966, -0.05116112, 0.006255558, -0.03722196, 0.068452954, -0.005031669, -0.023338536, 0.026488181, -0.014329624, -0.051958382, -0.06642493, 0.056227647, 0.054919228, -0.003727321, 0.009672952, 0.040973425, 0.07482766, -0.008491793, -0.014202994, 0.0040703653, 0.010648699, -0.009163023, -0.07104795, -0.02339877, 0.054741897, 0.0125276, 0.010918881, 0.031438097, -0.023090053, -0.007619386, -0.0064942027, 0.06131103, 0.054884233, 0.016296158, 0.009213799, -0.010012847, -0.037726205, -0.031594984, 0.014321735, 0.021967575, 0.008234693, -0.013605474, -0.036981184, -0.011353819, 0.01644862, 0.002494633, 0.03515783, -0.003017409, -0.022457883, -0.04320093, 0.03925029, -0.024913967, 0.021322712, 0.017304689, -0.024088548, -0.06819147, 0.045802284, 0.016943041, 0.015165844, 0.03562418, 0.041948535, -0.01302373, -0.002416857, -0.05702779, -0.01956082, 0.085398555, -0.04605811, 0.02553921, 0.01573268, 0.052868396, 0.06709512, 0.0020219237, -0.019373173, -0.0007789213, 0.065579794, -0.0047957934, -0.015438428, 0.036140103, -0.007846712, 0.049123403, -0.025078, -0.009602071, 0.044912443, -0.040892635, 0.03634363, -0.03212278, 0.006116638, -0.004790822, 0.039269343, -0.015599872, -0.02318417, 0.030772435, 0.007796386, 0.03120115, -0.031932868, -0.028833425, 0.042664476, 0.020386953, -0.02652124, -0.018275168, 0.07938738, 0.0062334314, -0.024666369, 0.008384331, 0.00454793, -0.03221171, 0.03934339, -0.01522751, 0.029678507, 0.010926634, -0.023886517, 0.0005733519, 0.0025740222, 0.023600519, -0.010103466, -0.00087799656, 0.08328831, 0.012755146, 0.07518913, 0.0637905, -0.051227625, 0.007082783, 0.03781216, -0.034073092, 0.008693574, 0.017402086, -0.03568671, -0.019208489, 0.010203263, 0.035259563, -0.024630567, -0.004073742, -0.01682443, 0.03262184, 0.049013812, -0.024412574, 0.07099586, -0.035832636, -0.031467717, -0.016279124, -0.045612816, -0.005336456, 0.06096306, -0.029720537, -0.014944067, 0.00055743713, 0.06287905, 0.054846857, -0.031882137, 0.0091637485, -0.020831028, 0.09729149, 0.0004914496, 0.0048216605, -0.0026011732, -0.022112131, -0.028212149, 0.037642848, 0.004861346, 0.015579622, 0.017494988, 0.031151878, -0.01616276, 0.021688374, -0.040989425, -0.045957137, -0.0009900939, 0.040059928, -0.014932977, -0.050075203, -0.0029836094, 0.036317423, -0.018724706, -0.005357414, -0.06539701, -0.054888144, -0.010846948, -0.013838997, -0.026046023, 0.018400693, -0.008679509, 0.0029984845, -0.04388473, -0.07548982, -0.012509259, 0.01683373, 0.005966074, -0.009286796, 0.0048333565, 0.01328815, 0.044487163, 0.04260016, 0.034666248, -0.005864969, 0.032439865, -0.014731302, -0.018062482, 0.01270578, 0.025589703, -0.0021886278, 0.044242393, 0.012825205, -0.023868674, -0.014569383, 0.019376067, 0.061704054, -0.02454922, -0.036969163, -0.01815071, 0.021876764, 0.004299779, 0.045531828, 0.00523786, -0.0023627833, 0.027524302, -0.016501065, 0.02084942, 0.059158023, 0.018895067, 0.018007873, 0.06938753, -0.06493021, -0.012838751, -0.018592665, 0.025974022, -0.031388275, 0.0060307845, 0.0070324, -0.03132151, 0.0039034905, 0.0029629692, 0.002891123, 0.0551523, -0.060545523, -0.016353328, -0.03297769, 0.0384958, 0.013450338, -0.00093515887, -0.0010836886, -0.004386778, -0.001574032, 0.010137461, -0.003624776, 0.0022091111, -0.012050399, 0.010540068, 0.012293531, 0.06558389, -0.049255315, -0.010393077, 0.007834899, 0.002316487, 0.020123336, -0.000574881, 0.047603846, -0.021312138, -0.036511723, 0.020038769, -0.033664703, 0.034703035, -0.03943198, 0.00031958183, -0.0065781455, 0.0058009084, 0.010065492, -0.010776303, -0.032846607, 0.018151164, -0.008613523, 0.046645805, -0.06514566, -0.066759296, 0.01931241, 0.051398646, -0.0023500903, -0.013336445, -0.09339641, -0.04417582, -0.04629094, 0.022695862, 0.03327606, 0.025937023, 0.013717732, -0.030375116, 0.028398585, -0.025521655, 0.007655762, 0.023146357, -0.06228517, -0.055814166, 0.06139277, 0.047085274, 0.025118789, -0.027555924, -0.009233598, -0.040387325, -0.012296267, 0.031200118, 0.0195599, -0.0060071317, -0.015351031, 0.05282343, -0.008057715, -0.03927101, -0.0069163837, 0.031160148, -0.04139401, -0.02514917, -0.04929765, -0.014618531, -0.043699514, 0.0009963362, 0.029331308, 0.015508129, -0.023674957, 0.00953288, -0.041661594, -0.0013048584, -0.048238, 0.008977994, 0.053565107, -0.011124271, -0.009232779, -0.037146483, 0.024631198, 0.0038618615, 0.03643935, 0.006305066, 0.005102531, 0.03978143, -0.018040743, 0.02533758, -0.029607477, -0.030796522, 0.07133151, -0.018898519]}\n"
     ]
    }
   ],
   "source": [
    "title = \"The next generation of AI for developers and Google Workspace\"\n",
    "sample_text = (\"Title: The next generation of AI for developers and Google Workspace\"\n",
    "    \"\\n\"\n",
    "    \"Full article:\\n\"\n",
    "    \"\\n\"\n",
    "    \"Gemini API & Google AI Studio: An approachable way to explore and prototype with generative AI applications\")\n",
    "\n",
    "model = 'models/text-embedding-004'\n",
    "embedding = genai.embed_content(model=model,\n",
    "                                content=sample_text,\n",
    "                                task_type=\"retrieval_document\",\n",
    "                                title=title)\n",
    "\n",
    "print(embedding)"
   ],
   "metadata": {
    "collapsed": false,
    "ExecuteTime": {
     "end_time": "2024-11-19T07:37:12.576476900Z",
     "start_time": "2024-11-19T07:37:09.452695900Z"
    }
   },
   "id": "52cee039bbe1a905"
  },
  {
   "cell_type": "markdown",
   "source": [
    "## 构建嵌入数据库\n",
    "以下是用于构建嵌入数据库的三个示例文本。您将使用 Gemini API 为每个文档创建嵌入。将它们转换为 DataFrame，以获得更好的可视化效果。"
   ],
   "metadata": {
    "collapsed": false
   },
   "id": "b32e11fad1f796e2"
  },
  {
   "cell_type": "code",
   "execution_count": 7,
   "outputs": [],
   "source": [
    "DOCUMENT1 = {\n",
    "    \"title\": \"Operating the Climate Control System\",\n",
    "    \"content\": \"Your Googlecar has a climate control system that allows you to adjust the temperature and airflow in the car. To operate the climate control system, use the buttons and knobs located on the center console.  Temperature: The temperature knob controls the temperature inside the car. Turn the knob clockwise to increase the temperature or counterclockwise to decrease the temperature. Airflow: The airflow knob controls the amount of airflow inside the car. Turn the knob clockwise to increase the airflow or counterclockwise to decrease the airflow. Fan speed: The fan speed knob controls the speed of the fan. Turn the knob clockwise to increase the fan speed or counterclockwise to decrease the fan speed. Mode: The mode button allows you to select the desired mode. The available modes are: Auto: The car will automatically adjust the temperature and airflow to maintain a comfortable level. Cool: The car will blow cool air into the car. Heat: The car will blow warm air into the car. Defrost: The car will blow warm air onto the windshield to defrost it.\"}\n",
    "DOCUMENT2 = {\n",
    "    \"title\": \"Touchscreen\",\n",
    "    \"content\": \"Your Googlecar has a large touchscreen display that provides access to a variety of features, including navigation, entertainment, and climate control. To use the touchscreen display, simply touch the desired icon.  For example, you can touch the \\\"Navigation\\\" icon to get directions to your destination or touch the \\\"Music\\\" icon to play your favorite songs.\"}\n",
    "DOCUMENT3 = {\n",
    "    \"title\": \"Shifting Gears\",\n",
    "    \"content\": \"Your Googlecar has an automatic transmission. To shift gears, simply move the shift lever to the desired position.  Park: This position is used when you are parked. The wheels are locked and the car cannot move. Reverse: This position is used to back up. Neutral: This position is used when you are stopped at a light or in traffic. The car is not in gear and will not move unless you press the gas pedal. Drive: This position is used to drive forward. Low: This position is used for driving in snow or other slippery conditions.\"}\n",
    "\n",
    "documents = [DOCUMENT1, DOCUMENT2, DOCUMENT3]"
   ],
   "metadata": {
    "collapsed": false,
    "ExecuteTime": {
     "end_time": "2024-11-19T07:37:52.361751Z",
     "start_time": "2024-11-19T07:37:52.340630400Z"
    }
   },
   "id": "cde9fad73670ec62"
  },
  {
   "cell_type": "code",
   "execution_count": 8,
   "outputs": [
    {
     "data": {
      "text/plain": "                                  Title  \\\n0  Operating the Climate Control System   \n1                           Touchscreen   \n2                        Shifting Gears   \n\n                                                Text  \n0  Your Googlecar has a climate control system th...  \n1  Your Googlecar has a large touchscreen display...  \n2  Your Googlecar has an automatic transmission. ...  ",
      "text/html": "<div>\n<style scoped>\n    .dataframe tbody tr th:only-of-type {\n        vertical-align: middle;\n    }\n\n    .dataframe tbody tr th {\n        vertical-align: top;\n    }\n\n    .dataframe thead th {\n        text-align: right;\n    }\n</style>\n<table border=\"1\" class=\"dataframe\">\n  <thead>\n    <tr style=\"text-align: right;\">\n      <th></th>\n      <th>Title</th>\n      <th>Text</th>\n    </tr>\n  </thead>\n  <tbody>\n    <tr>\n      <th>0</th>\n      <td>Operating the Climate Control System</td>\n      <td>Your Googlecar has a climate control system th...</td>\n    </tr>\n    <tr>\n      <th>1</th>\n      <td>Touchscreen</td>\n      <td>Your Googlecar has a large touchscreen display...</td>\n    </tr>\n    <tr>\n      <th>2</th>\n      <td>Shifting Gears</td>\n      <td>Your Googlecar has an automatic transmission. ...</td>\n    </tr>\n  </tbody>\n</table>\n</div>"
     },
     "execution_count": 8,
     "metadata": {},
     "output_type": "execute_result"
    }
   ],
   "source": [
    "## 将字典的内容整理到 DataFrame 中，以获得更好的可视化效果。\n",
    "df = pd.DataFrame(documents)\n",
    "df.columns = ['Title', 'Text']\n",
    "df"
   ],
   "metadata": {
    "collapsed": false,
    "ExecuteTime": {
     "end_time": "2024-11-19T07:38:22.731350600Z",
     "start_time": "2024-11-19T07:38:22.654530200Z"
    }
   },
   "id": "56bbb18cbfa75601"
  },
  {
   "cell_type": "code",
   "execution_count": 9,
   "outputs": [
    {
     "data": {
      "text/plain": "                                  Title  \\\n0  Operating the Climate Control System   \n1                           Touchscreen   \n2                        Shifting Gears   \n\n                                                Text  \\\n0  Your Googlecar has a climate control system th...   \n1  Your Googlecar has a large touchscreen display...   \n2  Your Googlecar has an automatic transmission. ...   \n\n                                          Embeddings  \n0  [0.01696385, 0.0074500814, -0.03125627, -0.014...  \n1  [0.008353345, 0.029304748, -0.04979913, -0.038...  \n2  [0.026820986, 0.012146816, -0.021441666, 0.013...  ",
      "text/html": "<div>\n<style scoped>\n    .dataframe tbody tr th:only-of-type {\n        vertical-align: middle;\n    }\n\n    .dataframe tbody tr th {\n        vertical-align: top;\n    }\n\n    .dataframe thead th {\n        text-align: right;\n    }\n</style>\n<table border=\"1\" class=\"dataframe\">\n  <thead>\n    <tr style=\"text-align: right;\">\n      <th></th>\n      <th>Title</th>\n      <th>Text</th>\n      <th>Embeddings</th>\n    </tr>\n  </thead>\n  <tbody>\n    <tr>\n      <th>0</th>\n      <td>Operating the Climate Control System</td>\n      <td>Your Googlecar has a climate control system th...</td>\n      <td>[0.01696385, 0.0074500814, -0.03125627, -0.014...</td>\n    </tr>\n    <tr>\n      <th>1</th>\n      <td>Touchscreen</td>\n      <td>Your Googlecar has a large touchscreen display...</td>\n      <td>[0.008353345, 0.029304748, -0.04979913, -0.038...</td>\n    </tr>\n    <tr>\n      <th>2</th>\n      <td>Shifting Gears</td>\n      <td>Your Googlecar has an automatic transmission. ...</td>\n      <td>[0.026820986, 0.012146816, -0.021441666, 0.013...</td>\n    </tr>\n  </tbody>\n</table>\n</div>"
     },
     "execution_count": 9,
     "metadata": {},
     "output_type": "execute_result"
    }
   ],
   "source": [
    "## 获取每个文本正文的嵌入。将此信息添加到 DataFrame 中。\n",
    "# Get the embeddings of each text and add to an embeddings column in the dataframe\n",
    "def embed_fn(title, text):\n",
    "  return genai.embed_content(model=model,\n",
    "                             content=text,\n",
    "                             task_type=\"retrieval_document\",\n",
    "                             title=title)[\"embedding\"]\n",
    "\n",
    "df['Embeddings'] = df.apply(lambda row: embed_fn(row['Title'], row['Text']), axis=1)\n",
    "df"
   ],
   "metadata": {
    "collapsed": false,
    "ExecuteTime": {
     "end_time": "2024-11-19T07:38:42.131134600Z",
     "start_time": "2024-11-19T07:38:39.702237100Z"
    }
   },
   "id": "58abaa1c2b93c3e4"
  },
  {
   "cell_type": "markdown",
   "source": [
    "## 包含问答功能的文档搜索\n",
    "现在，嵌入已生成，接下来让我们创建一个问答系统来搜索这些文档。您将提出一个有关超参数调节的问题，创建问题的嵌入，并将其与 DataFrame 中的嵌入集合进行比较。\n",
    "问题的嵌入将是一个矢量（浮点值列表），将与使用点积的文档矢量进行比较。从 API 返回的这个矢量已经标准化。点积表示两个向量在方向上的相似度。\n",
    "点积的值可介于 -1 和 1 之间（含 -1 和 1）。如果两个向量之间的点积为 1，那么这两个向量的方向相同。如果点积值为 0，则这些向量彼此正交或无关。最后，如果点积为 -1，则向量指向相反方向且彼此不相似。\n",
    "请注意，使用新嵌入模型 (embedding-001) 时，对于用户查询，将任务类型指定为 QUERY；对于嵌入文档文本，请将任务类型指定为 DOCUMENT。"
   ],
   "metadata": {
    "collapsed": false
   },
   "id": "21aac7792e669b49"
  },
  {
   "cell_type": "code",
   "execution_count": 10,
   "outputs": [],
   "source": [
    "query = \"How do you shift gears in the Google car?\"\n",
    "model = 'models/text-embedding-004'\n",
    "\n",
    "request = genai.embed_content(model=model,\n",
    "                              content=query,\n",
    "                              task_type=\"retrieval_query\")"
   ],
   "metadata": {
    "collapsed": false,
    "ExecuteTime": {
     "end_time": "2024-11-19T07:40:50.564528300Z",
     "start_time": "2024-11-19T07:40:48.143632800Z"
    }
   },
   "id": "cefc14729985d4e1"
  },
  {
   "cell_type": "code",
   "execution_count": 11,
   "outputs": [],
   "source": [
    "## 使用 find_best_passage 函数计算点积，然后按照从大到小的点积值对 DataFrame 进行排序，以便从数据库中检索相关段落。\n",
    "def find_best_passage(query, dataframe):\n",
    "  \"\"\"\n",
    "  Compute the distances between the query and each document in the dataframe\n",
    "  using the dot product.\n",
    "  \"\"\"\n",
    "  query_embedding = genai.embed_content(model=model,\n",
    "                                        content=query,\n",
    "                                        task_type=\"retrieval_query\")\n",
    "  dot_products = np.dot(np.stack(dataframe['Embeddings']), query_embedding[\"embedding\"])\n",
    "  idx = np.argmax(dot_products)\n",
    "  return dataframe.iloc[idx]['Text'] # Return text from index with max value"
   ],
   "metadata": {
    "collapsed": false,
    "ExecuteTime": {
     "end_time": "2024-11-19T07:41:00.199665600Z",
     "start_time": "2024-11-19T07:41:00.174666400Z"
    }
   },
   "id": "a25424d5792dceb8"
  },
  {
   "cell_type": "code",
   "execution_count": 12,
   "outputs": [
    {
     "data": {
      "text/plain": "'Your Googlecar has an automatic transmission. To shift gears, simply move the shift lever to the desired position.  Park: This position is used when you are parked. The wheels are locked and the car cannot move. Reverse: This position is used to back up. Neutral: This position is used when you are stopped at a light or in traffic. The car is not in gear and will not move unless you press the gas pedal. Drive: This position is used to drive forward. Low: This position is used for driving in snow or other slippery conditions.'"
     },
     "execution_count": 12,
     "metadata": {},
     "output_type": "execute_result"
    }
   ],
   "source": [
    "## 查看数据库中最相关的文档：\n",
    "passage = find_best_passage(query, df)\n",
    "passage"
   ],
   "metadata": {
    "collapsed": false,
    "ExecuteTime": {
     "end_time": "2024-11-19T07:41:15.727975500Z",
     "start_time": "2024-11-19T07:41:15.231368300Z"
    }
   },
   "id": "e922bd5813d74734"
  },
  {
   "cell_type": "markdown",
   "source": [
    "## 问答应用\n",
    "我们来尝试使用文本生成 API 来创建问与系统。在下面输入您自己的自定义数据，以创建简单的问答示例。您仍然会使用点积作为相似度指标。"
   ],
   "metadata": {
    "collapsed": false
   },
   "id": "d9b4673300698856"
  },
  {
   "cell_type": "code",
   "execution_count": 13,
   "outputs": [],
   "source": [
    "def make_prompt(query, relevant_passage):\n",
    "  escaped = relevant_passage.replace(\"'\", \"\").replace('\"', \"\").replace(\"\\n\", \" \")\n",
    "  prompt = textwrap.dedent(\"\"\"You are a helpful and informative bot that answers questions using text from the reference passage included below. \\\n",
    "  Be sure to respond in a complete sentence, being comprehensive, including all relevant background information. \\\n",
    "  However, you are talking to a non-technical audience, so be sure to break down complicated concepts and \\\n",
    "  strike a friendly and converstional tone. \\\n",
    "  If the passage is irrelevant to the answer, you may ignore it.\n",
    "  QUESTION: '{query}'\n",
    "  PASSAGE: '{relevant_passage}'\n",
    "\n",
    "    ANSWER:\n",
    "  \"\"\").format(query=query, relevant_passage=escaped)\n",
    "\n",
    "  return prompt"
   ],
   "metadata": {
    "collapsed": false,
    "ExecuteTime": {
     "end_time": "2024-11-19T07:42:01.579878500Z",
     "start_time": "2024-11-19T07:42:01.553879700Z"
    }
   },
   "id": "b24b1c5d7ca812a3"
  },
  {
   "cell_type": "code",
   "execution_count": 14,
   "outputs": [
    {
     "name": "stdout",
     "output_type": "stream",
     "text": [
      "You are a helpful and informative bot that answers questions using text from the reference passage included below.   Be sure to respond in a complete sentence, being comprehensive, including all relevant background information.   However, you are talking to a non-technical audience, so be sure to break down complicated concepts and   strike a friendly and converstional tone.   If the passage is irrelevant to the answer, you may ignore it.\n",
      "  QUESTION: 'How do you shift gears in the Google car?'\n",
      "  PASSAGE: 'Your Googlecar has an automatic transmission. To shift gears, simply move the shift lever to the desired position.  Park: This position is used when you are parked. The wheels are locked and the car cannot move. Reverse: This position is used to back up. Neutral: This position is used when you are stopped at a light or in traffic. The car is not in gear and will not move unless you press the gas pedal. Drive: This position is used to drive forward. Low: This position is used for driving in snow or other slippery conditions.'\n",
      "\n",
      "    ANSWER:\n"
     ]
    }
   ],
   "source": [
    "prompt = make_prompt(query, passage)\n",
    "print(prompt)"
   ],
   "metadata": {
    "collapsed": false,
    "ExecuteTime": {
     "end_time": "2024-11-19T07:42:08.722349Z",
     "start_time": "2024-11-19T07:42:08.690142700Z"
    }
   },
   "id": "a004b1b6a274adf6"
  },
  {
   "cell_type": "code",
   "execution_count": 15,
   "outputs": [
    {
     "name": "stdout",
     "output_type": "stream",
     "text": [
      "models/gemini-1.0-pro-latest\n",
      "models/gemini-1.0-pro\n",
      "models/gemini-pro\n",
      "models/gemini-1.0-pro-001\n",
      "models/gemini-1.0-pro-vision-latest\n",
      "models/gemini-pro-vision\n",
      "models/gemini-1.5-pro-latest\n",
      "models/gemini-1.5-pro-001\n",
      "models/gemini-1.5-pro-002\n",
      "models/gemini-1.5-pro\n",
      "models/gemini-1.5-pro-exp-0801\n",
      "models/gemini-1.5-pro-exp-0827\n",
      "models/gemini-1.5-flash-latest\n",
      "models/gemini-1.5-flash-001\n",
      "models/gemini-1.5-flash-001-tuning\n",
      "models/gemini-1.5-flash\n",
      "models/gemini-1.5-flash-exp-0827\n",
      "models/gemini-1.5-flash-002\n",
      "models/gemini-1.5-flash-8b\n",
      "models/gemini-1.5-flash-8b-001\n",
      "models/gemini-1.5-flash-8b-latest\n",
      "models/gemini-1.5-flash-8b-exp-0827\n",
      "models/gemini-1.5-flash-8b-exp-0924\n",
      "models/gemini-exp-1114\n"
     ]
    }
   ],
   "source": [
    "for m in genai.list_models():\n",
    "  if 'generateContent' in m.supported_generation_methods:\n",
    "    print(m.name)"
   ],
   "metadata": {
    "collapsed": false,
    "ExecuteTime": {
     "end_time": "2024-11-19T07:42:23.272862500Z",
     "start_time": "2024-11-19T07:42:20.805001900Z"
    }
   },
   "id": "26084b2b29c881"
  },
  {
   "cell_type": "code",
   "execution_count": 16,
   "outputs": [
    {
     "ename": "ResourceExhausted",
     "evalue": "429 Resource has been exhausted (e.g. check quota).",
     "output_type": "error",
     "traceback": [
      "\u001B[1;31m---------------------------------------------------------------------------\u001B[0m",
      "\u001B[1;31mResourceExhausted\u001B[0m                         Traceback (most recent call last)",
      "Cell \u001B[1;32mIn[16], line 2\u001B[0m\n\u001B[0;32m      1\u001B[0m model \u001B[38;5;241m=\u001B[39m genai\u001B[38;5;241m.\u001B[39mGenerativeModel(\u001B[38;5;124m'\u001B[39m\u001B[38;5;124mgemini-1.5-pro-latest\u001B[39m\u001B[38;5;124m'\u001B[39m)\n\u001B[1;32m----> 2\u001B[0m answer \u001B[38;5;241m=\u001B[39m \u001B[43mmodel\u001B[49m\u001B[38;5;241;43m.\u001B[39;49m\u001B[43mgenerate_content\u001B[49m\u001B[43m(\u001B[49m\u001B[43mprompt\u001B[49m\u001B[43m)\u001B[49m\n",
      "File \u001B[1;32m~\\.conda\\envs\\vision-perception\\lib\\site-packages\\google\\generativeai\\generative_models.py:331\u001B[0m, in \u001B[0;36mGenerativeModel.generate_content\u001B[1;34m(self, contents, generation_config, safety_settings, stream, tools, tool_config, request_options)\u001B[0m\n\u001B[0;32m    329\u001B[0m         \u001B[38;5;28;01mreturn\u001B[39;00m generation_types\u001B[38;5;241m.\u001B[39mGenerateContentResponse\u001B[38;5;241m.\u001B[39mfrom_iterator(iterator)\n\u001B[0;32m    330\u001B[0m     \u001B[38;5;28;01melse\u001B[39;00m:\n\u001B[1;32m--> 331\u001B[0m         response \u001B[38;5;241m=\u001B[39m \u001B[38;5;28mself\u001B[39m\u001B[38;5;241m.\u001B[39m_client\u001B[38;5;241m.\u001B[39mgenerate_content(\n\u001B[0;32m    332\u001B[0m             request,\n\u001B[0;32m    333\u001B[0m             \u001B[38;5;241m*\u001B[39m\u001B[38;5;241m*\u001B[39mrequest_options,\n\u001B[0;32m    334\u001B[0m         )\n\u001B[0;32m    335\u001B[0m         \u001B[38;5;28;01mreturn\u001B[39;00m generation_types\u001B[38;5;241m.\u001B[39mGenerateContentResponse\u001B[38;5;241m.\u001B[39mfrom_response(response)\n\u001B[0;32m    336\u001B[0m \u001B[38;5;28;01mexcept\u001B[39;00m google\u001B[38;5;241m.\u001B[39mapi_core\u001B[38;5;241m.\u001B[39mexceptions\u001B[38;5;241m.\u001B[39mInvalidArgument \u001B[38;5;28;01mas\u001B[39;00m e:\n",
      "File \u001B[1;32m~\\.conda\\envs\\vision-perception\\lib\\site-packages\\google\\ai\\generativelanguage_v1beta\\services\\generative_service\\client.py:830\u001B[0m, in \u001B[0;36mGenerativeServiceClient.generate_content\u001B[1;34m(self, request, model, contents, retry, timeout, metadata)\u001B[0m\n\u001B[0;32m    827\u001B[0m \u001B[38;5;28mself\u001B[39m\u001B[38;5;241m.\u001B[39m_validate_universe_domain()\n\u001B[0;32m    829\u001B[0m \u001B[38;5;66;03m# Send the request.\u001B[39;00m\n\u001B[1;32m--> 830\u001B[0m response \u001B[38;5;241m=\u001B[39m \u001B[43mrpc\u001B[49m\u001B[43m(\u001B[49m\n\u001B[0;32m    831\u001B[0m \u001B[43m    \u001B[49m\u001B[43mrequest\u001B[49m\u001B[43m,\u001B[49m\n\u001B[0;32m    832\u001B[0m \u001B[43m    \u001B[49m\u001B[43mretry\u001B[49m\u001B[38;5;241;43m=\u001B[39;49m\u001B[43mretry\u001B[49m\u001B[43m,\u001B[49m\n\u001B[0;32m    833\u001B[0m \u001B[43m    \u001B[49m\u001B[43mtimeout\u001B[49m\u001B[38;5;241;43m=\u001B[39;49m\u001B[43mtimeout\u001B[49m\u001B[43m,\u001B[49m\n\u001B[0;32m    834\u001B[0m \u001B[43m    \u001B[49m\u001B[43mmetadata\u001B[49m\u001B[38;5;241;43m=\u001B[39;49m\u001B[43mmetadata\u001B[49m\u001B[43m,\u001B[49m\n\u001B[0;32m    835\u001B[0m \u001B[43m\u001B[49m\u001B[43m)\u001B[49m\n\u001B[0;32m    837\u001B[0m \u001B[38;5;66;03m# Done; return the response.\u001B[39;00m\n\u001B[0;32m    838\u001B[0m \u001B[38;5;28;01mreturn\u001B[39;00m response\n",
      "File \u001B[1;32m~\\.conda\\envs\\vision-perception\\lib\\site-packages\\google\\api_core\\gapic_v1\\method.py:131\u001B[0m, in \u001B[0;36m_GapicCallable.__call__\u001B[1;34m(self, timeout, retry, compression, *args, **kwargs)\u001B[0m\n\u001B[0;32m    128\u001B[0m \u001B[38;5;28;01mif\u001B[39;00m \u001B[38;5;28mself\u001B[39m\u001B[38;5;241m.\u001B[39m_compression \u001B[38;5;129;01mis\u001B[39;00m \u001B[38;5;129;01mnot\u001B[39;00m \u001B[38;5;28;01mNone\u001B[39;00m:\n\u001B[0;32m    129\u001B[0m     kwargs[\u001B[38;5;124m\"\u001B[39m\u001B[38;5;124mcompression\u001B[39m\u001B[38;5;124m\"\u001B[39m] \u001B[38;5;241m=\u001B[39m compression\n\u001B[1;32m--> 131\u001B[0m \u001B[38;5;28;01mreturn\u001B[39;00m wrapped_func(\u001B[38;5;241m*\u001B[39margs, \u001B[38;5;241m*\u001B[39m\u001B[38;5;241m*\u001B[39mkwargs)\n",
      "File \u001B[1;32m~\\.conda\\envs\\vision-perception\\lib\\site-packages\\google\\api_core\\retry\\retry_unary.py:293\u001B[0m, in \u001B[0;36mRetry.__call__.<locals>.retry_wrapped_func\u001B[1;34m(*args, **kwargs)\u001B[0m\n\u001B[0;32m    289\u001B[0m target \u001B[38;5;241m=\u001B[39m functools\u001B[38;5;241m.\u001B[39mpartial(func, \u001B[38;5;241m*\u001B[39margs, \u001B[38;5;241m*\u001B[39m\u001B[38;5;241m*\u001B[39mkwargs)\n\u001B[0;32m    290\u001B[0m sleep_generator \u001B[38;5;241m=\u001B[39m exponential_sleep_generator(\n\u001B[0;32m    291\u001B[0m     \u001B[38;5;28mself\u001B[39m\u001B[38;5;241m.\u001B[39m_initial, \u001B[38;5;28mself\u001B[39m\u001B[38;5;241m.\u001B[39m_maximum, multiplier\u001B[38;5;241m=\u001B[39m\u001B[38;5;28mself\u001B[39m\u001B[38;5;241m.\u001B[39m_multiplier\n\u001B[0;32m    292\u001B[0m )\n\u001B[1;32m--> 293\u001B[0m \u001B[38;5;28;01mreturn\u001B[39;00m \u001B[43mretry_target\u001B[49m\u001B[43m(\u001B[49m\n\u001B[0;32m    294\u001B[0m \u001B[43m    \u001B[49m\u001B[43mtarget\u001B[49m\u001B[43m,\u001B[49m\n\u001B[0;32m    295\u001B[0m \u001B[43m    \u001B[49m\u001B[38;5;28;43mself\u001B[39;49m\u001B[38;5;241;43m.\u001B[39;49m\u001B[43m_predicate\u001B[49m\u001B[43m,\u001B[49m\n\u001B[0;32m    296\u001B[0m \u001B[43m    \u001B[49m\u001B[43msleep_generator\u001B[49m\u001B[43m,\u001B[49m\n\u001B[0;32m    297\u001B[0m \u001B[43m    \u001B[49m\u001B[43mtimeout\u001B[49m\u001B[38;5;241;43m=\u001B[39;49m\u001B[38;5;28;43mself\u001B[39;49m\u001B[38;5;241;43m.\u001B[39;49m\u001B[43m_timeout\u001B[49m\u001B[43m,\u001B[49m\n\u001B[0;32m    298\u001B[0m \u001B[43m    \u001B[49m\u001B[43mon_error\u001B[49m\u001B[38;5;241;43m=\u001B[39;49m\u001B[43mon_error\u001B[49m\u001B[43m,\u001B[49m\n\u001B[0;32m    299\u001B[0m \u001B[43m\u001B[49m\u001B[43m)\u001B[49m\n",
      "File \u001B[1;32m~\\.conda\\envs\\vision-perception\\lib\\site-packages\\google\\api_core\\retry\\retry_unary.py:153\u001B[0m, in \u001B[0;36mretry_target\u001B[1;34m(target, predicate, sleep_generator, timeout, on_error, exception_factory, **kwargs)\u001B[0m\n\u001B[0;32m    149\u001B[0m \u001B[38;5;66;03m# pylint: disable=broad-except\u001B[39;00m\n\u001B[0;32m    150\u001B[0m \u001B[38;5;66;03m# This function explicitly must deal with broad exceptions.\u001B[39;00m\n\u001B[0;32m    151\u001B[0m \u001B[38;5;28;01mexcept\u001B[39;00m \u001B[38;5;167;01mException\u001B[39;00m \u001B[38;5;28;01mas\u001B[39;00m exc:\n\u001B[0;32m    152\u001B[0m     \u001B[38;5;66;03m# defer to shared logic for handling errors\u001B[39;00m\n\u001B[1;32m--> 153\u001B[0m     \u001B[43m_retry_error_helper\u001B[49m\u001B[43m(\u001B[49m\n\u001B[0;32m    154\u001B[0m \u001B[43m        \u001B[49m\u001B[43mexc\u001B[49m\u001B[43m,\u001B[49m\n\u001B[0;32m    155\u001B[0m \u001B[43m        \u001B[49m\u001B[43mdeadline\u001B[49m\u001B[43m,\u001B[49m\n\u001B[0;32m    156\u001B[0m \u001B[43m        \u001B[49m\u001B[43msleep\u001B[49m\u001B[43m,\u001B[49m\n\u001B[0;32m    157\u001B[0m \u001B[43m        \u001B[49m\u001B[43merror_list\u001B[49m\u001B[43m,\u001B[49m\n\u001B[0;32m    158\u001B[0m \u001B[43m        \u001B[49m\u001B[43mpredicate\u001B[49m\u001B[43m,\u001B[49m\n\u001B[0;32m    159\u001B[0m \u001B[43m        \u001B[49m\u001B[43mon_error\u001B[49m\u001B[43m,\u001B[49m\n\u001B[0;32m    160\u001B[0m \u001B[43m        \u001B[49m\u001B[43mexception_factory\u001B[49m\u001B[43m,\u001B[49m\n\u001B[0;32m    161\u001B[0m \u001B[43m        \u001B[49m\u001B[43mtimeout\u001B[49m\u001B[43m,\u001B[49m\n\u001B[0;32m    162\u001B[0m \u001B[43m    \u001B[49m\u001B[43m)\u001B[49m\n\u001B[0;32m    163\u001B[0m     \u001B[38;5;66;03m# if exception not raised, sleep before next attempt\u001B[39;00m\n\u001B[0;32m    164\u001B[0m     time\u001B[38;5;241m.\u001B[39msleep(sleep)\n",
      "File \u001B[1;32m~\\.conda\\envs\\vision-perception\\lib\\site-packages\\google\\api_core\\retry\\retry_base.py:212\u001B[0m, in \u001B[0;36m_retry_error_helper\u001B[1;34m(exc, deadline, next_sleep, error_list, predicate_fn, on_error_fn, exc_factory_fn, original_timeout)\u001B[0m\n\u001B[0;32m    206\u001B[0m \u001B[38;5;28;01mif\u001B[39;00m \u001B[38;5;129;01mnot\u001B[39;00m predicate_fn(exc):\n\u001B[0;32m    207\u001B[0m     final_exc, source_exc \u001B[38;5;241m=\u001B[39m exc_factory_fn(\n\u001B[0;32m    208\u001B[0m         error_list,\n\u001B[0;32m    209\u001B[0m         RetryFailureReason\u001B[38;5;241m.\u001B[39mNON_RETRYABLE_ERROR,\n\u001B[0;32m    210\u001B[0m         original_timeout,\n\u001B[0;32m    211\u001B[0m     )\n\u001B[1;32m--> 212\u001B[0m     \u001B[38;5;28;01mraise\u001B[39;00m final_exc \u001B[38;5;28;01mfrom\u001B[39;00m \u001B[38;5;21;01msource_exc\u001B[39;00m\n\u001B[0;32m    213\u001B[0m \u001B[38;5;28;01mif\u001B[39;00m on_error_fn \u001B[38;5;129;01mis\u001B[39;00m \u001B[38;5;129;01mnot\u001B[39;00m \u001B[38;5;28;01mNone\u001B[39;00m:\n\u001B[0;32m    214\u001B[0m     on_error_fn(exc)\n",
      "File \u001B[1;32m~\\.conda\\envs\\vision-perception\\lib\\site-packages\\google\\api_core\\retry\\retry_unary.py:144\u001B[0m, in \u001B[0;36mretry_target\u001B[1;34m(target, predicate, sleep_generator, timeout, on_error, exception_factory, **kwargs)\u001B[0m\n\u001B[0;32m    142\u001B[0m \u001B[38;5;28;01mfor\u001B[39;00m sleep \u001B[38;5;129;01min\u001B[39;00m sleep_generator:\n\u001B[0;32m    143\u001B[0m     \u001B[38;5;28;01mtry\u001B[39;00m:\n\u001B[1;32m--> 144\u001B[0m         result \u001B[38;5;241m=\u001B[39m \u001B[43mtarget\u001B[49m\u001B[43m(\u001B[49m\u001B[43m)\u001B[49m\n\u001B[0;32m    145\u001B[0m         \u001B[38;5;28;01mif\u001B[39;00m inspect\u001B[38;5;241m.\u001B[39misawaitable(result):\n\u001B[0;32m    146\u001B[0m             warnings\u001B[38;5;241m.\u001B[39mwarn(_ASYNC_RETRY_WARNING)\n",
      "File \u001B[1;32m~\\.conda\\envs\\vision-perception\\lib\\site-packages\\google\\api_core\\timeout.py:120\u001B[0m, in \u001B[0;36mTimeToDeadlineTimeout.__call__.<locals>.func_with_timeout\u001B[1;34m(*args, **kwargs)\u001B[0m\n\u001B[0;32m    117\u001B[0m     \u001B[38;5;66;03m# Avoid setting negative timeout\u001B[39;00m\n\u001B[0;32m    118\u001B[0m     kwargs[\u001B[38;5;124m\"\u001B[39m\u001B[38;5;124mtimeout\u001B[39m\u001B[38;5;124m\"\u001B[39m] \u001B[38;5;241m=\u001B[39m \u001B[38;5;28mmax\u001B[39m(\u001B[38;5;241m0\u001B[39m, \u001B[38;5;28mself\u001B[39m\u001B[38;5;241m.\u001B[39m_timeout \u001B[38;5;241m-\u001B[39m time_since_first_attempt)\n\u001B[1;32m--> 120\u001B[0m \u001B[38;5;28;01mreturn\u001B[39;00m func(\u001B[38;5;241m*\u001B[39margs, \u001B[38;5;241m*\u001B[39m\u001B[38;5;241m*\u001B[39mkwargs)\n",
      "File \u001B[1;32m~\\.conda\\envs\\vision-perception\\lib\\site-packages\\google\\api_core\\grpc_helpers.py:78\u001B[0m, in \u001B[0;36m_wrap_unary_errors.<locals>.error_remapped_callable\u001B[1;34m(*args, **kwargs)\u001B[0m\n\u001B[0;32m     76\u001B[0m     \u001B[38;5;28;01mreturn\u001B[39;00m callable_(\u001B[38;5;241m*\u001B[39margs, \u001B[38;5;241m*\u001B[39m\u001B[38;5;241m*\u001B[39mkwargs)\n\u001B[0;32m     77\u001B[0m \u001B[38;5;28;01mexcept\u001B[39;00m grpc\u001B[38;5;241m.\u001B[39mRpcError \u001B[38;5;28;01mas\u001B[39;00m exc:\n\u001B[1;32m---> 78\u001B[0m     \u001B[38;5;28;01mraise\u001B[39;00m exceptions\u001B[38;5;241m.\u001B[39mfrom_grpc_error(exc) \u001B[38;5;28;01mfrom\u001B[39;00m \u001B[38;5;21;01mexc\u001B[39;00m\n",
      "\u001B[1;31mResourceExhausted\u001B[0m: 429 Resource has been exhausted (e.g. check quota)."
     ]
    }
   ],
   "source": [
    "model = genai.GenerativeModel('gemini-1.5-pro-latest')\n",
    "answer = model.generate_content(prompt)"
   ],
   "metadata": {
    "collapsed": false,
    "ExecuteTime": {
     "end_time": "2024-11-19T07:42:42.848459400Z",
     "start_time": "2024-11-19T07:42:36.967495800Z"
    }
   },
   "id": "3908dc0973c7661a"
  },
  {
   "cell_type": "code",
   "execution_count": null,
   "outputs": [],
   "source": [],
   "metadata": {
    "collapsed": false
   },
   "id": "5ace56d2eea8f1f1"
  }
 ],
 "metadata": {
  "kernelspec": {
   "display_name": "Python 3",
   "language": "python",
   "name": "python3"
  },
  "language_info": {
   "codemirror_mode": {
    "name": "ipython",
    "version": 2
   },
   "file_extension": ".py",
   "mimetype": "text/x-python",
   "name": "python",
   "nbconvert_exporter": "python",
   "pygments_lexer": "ipython2",
   "version": "2.7.6"
  }
 },
 "nbformat": 4,
 "nbformat_minor": 5
}
